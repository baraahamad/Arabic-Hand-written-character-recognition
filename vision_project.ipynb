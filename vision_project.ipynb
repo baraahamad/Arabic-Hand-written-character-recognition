{
  "cells": [
    {
      "cell_type": "code",
      "execution_count": null,
      "metadata": {
        "colab": {
          "base_uri": "https://localhost:8080/"
        },
        "id": "5SsRVf98_PhT",
        "outputId": "add18de6-4159-47bf-934b-51527e8dcef4"
      },
      "outputs": [
        {
          "output_type": "stream",
          "name": "stdout",
          "text": [
            "Requirement already satisfied: keras-tuner in /usr/local/lib/python3.10/dist-packages (1.4.6)\n",
            "Requirement already satisfied: keras in /usr/local/lib/python3.10/dist-packages (from keras-tuner) (2.15.0)\n",
            "Requirement already satisfied: packaging in /usr/local/lib/python3.10/dist-packages (from keras-tuner) (23.2)\n",
            "Requirement already satisfied: requests in /usr/local/lib/python3.10/dist-packages (from keras-tuner) (2.31.0)\n",
            "Requirement already satisfied: kt-legacy in /usr/local/lib/python3.10/dist-packages (from keras-tuner) (1.0.5)\n",
            "Requirement already satisfied: charset-normalizer<4,>=2 in /usr/local/lib/python3.10/dist-packages (from requests->keras-tuner) (3.3.2)\n",
            "Requirement already satisfied: idna<4,>=2.5 in /usr/local/lib/python3.10/dist-packages (from requests->keras-tuner) (3.6)\n",
            "Requirement already satisfied: urllib3<3,>=1.21.1 in /usr/local/lib/python3.10/dist-packages (from requests->keras-tuner) (2.0.7)\n",
            "Requirement already satisfied: certifi>=2017.4.17 in /usr/local/lib/python3.10/dist-packages (from requests->keras-tuner) (2023.11.17)\n"
          ]
        }
      ],
      "source": [
        "!pip install -U keras-tuner"
      ]
    },
    {
      "cell_type": "code",
      "execution_count": null,
      "metadata": {
        "id": "ktccIMZD6_oX"
      },
      "outputs": [],
      "source": [
        "import tensorflow as tf\n",
        "from keras import layers, models\n",
        "from keras.optimizers.legacy import Adam\n",
        "import kerastuner as kt\n",
        "import numpy as np\n",
        "import pandas as pd\n",
        "from keras.utils import to_categorical\n",
        "import matplotlib.pyplot as plt"
      ]
    },
    {
      "cell_type": "code",
      "execution_count": null,
      "metadata": {
        "id": "7W170lYE8kXN"
      },
      "outputs": [],
      "source": [
        "def load_data(train_images_path, train_labels_path, test_images_path, test_labels_path):\n",
        "    # Read CSV files into Pandas DataFrames\n",
        "    train_images_df = pd.read_csv(train_images_path, header=None)\n",
        "    train_labels_df = pd.read_csv(train_labels_path, header=None)\n",
        "    test_images_df = pd.read_csv(test_images_path, header=None)\n",
        "    test_labels_df = pd.read_csv(test_labels_path, header=None)\n",
        "\n",
        "    # Reshape to (-1,32, 32, 1)(into a 4D array that can be used as input to a convolutional neural network (CNN))\n",
        "    train_images = train_images_df.to_numpy().reshape(-1, 32, 32, 1)\n",
        "    train_labels = to_categorical(train_labels_df.to_numpy().flatten())  # One-hot encode labels(convert categorical labels into a binary matrix)\n",
        "    test_images = test_images_df.to_numpy().reshape(-1, 32, 32, 1)  # Reshape to (-1,32, 32, 1)(number of samples, height, width, channels)\n",
        "    test_labels = to_categorical(test_labels_df.to_numpy().flatten())  # One-hot encode labels\n",
        "    # Return the processed data\n",
        "    return train_images, train_labels, test_images, test_labels"
      ]
    },
    {
      "cell_type": "code",
      "execution_count": null,
      "metadata": {
        "id": "dM60hpX4AP0N"
      },
      "outputs": [],
      "source": [
        "input_shape = (32, 32, 1)  #based on my dataset shape\n",
        "num_classes = 29  #num of labels in the arabic character\n",
        "learning_rate = 0.0010073577012265802 #result from tuner\n",
        "batch_size = 32\n",
        "epochs = 10\n",
        "dropout_rate=0.4 #result from tuner"
      ]
    },
    {
      "cell_type": "code",
      "execution_count": null,
      "metadata": {
        "id": "Q9ruSHlyGyqo"
      },
      "outputs": [],
      "source": [
        "optimizer = Adam(learning_rate=learning_rate)"
      ]
    },
    {
      "cell_type": "code",
      "execution_count": null,
      "metadata": {
        "id": "8Ho8YRTRj2Bk"
      },
      "outputs": [],
      "source": [
        "#main model after tuning parameters\n",
        "def build_cnn():\n",
        "    # Build the CNN model\n",
        "    model = models.Sequential()\n",
        "\n",
        "    # Convolutional layers with 32 filter\n",
        "    model.add(layers.Conv2D(32, (3, 3), activation='relu', input_shape=input_shape))\n",
        "    model.add(layers.MaxPooling2D((2, 2)))\n",
        "\n",
        "    model.add(layers.Conv2D(64, (3, 3), activation='relu'))\n",
        "    model.add(layers.MaxPooling2D((2, 2)))#maxpooling withe pool size 2x2\n",
        "\n",
        "    # Flatten layer before fully connected layers\n",
        "    model.add(layers.Flatten())\n",
        "\n",
        "    # Fully connected layers\n",
        "    model.add(layers.Dense(128, activation='relu'))\n",
        "    model.add(layers.Dropout(dropout_rate))  # Dropout layer to prevent overfitting\n",
        "    model.add(layers.Dense(num_classes, activation='softmax'))# output layer\n",
        "\n",
        "    # Compile the model with the Adam optimizer\n",
        "    model.compile(optimizer=optimizer,\n",
        "                loss='categorical_crossentropy',\n",
        "                metrics=['accuracy'])\n",
        "    return model"
      ]
    },
    {
      "cell_type": "code",
      "execution_count": null,
      "metadata": {
        "id": "WamEs05HAGBW"
      },
      "outputs": [],
      "source": [
        "#this function is used for tuning (using hyperparameter (hp))\n",
        "import kerastuner as kt\n",
        "def build_cnn_for_tuning(hp):\n",
        "    # Build the CNN model\n",
        "    model = models.Sequential()\n",
        "\n",
        "    # Convolutional layers\n",
        "    model.add(layers.Conv2D(32, (3, 3), activation='relu', input_shape=input_shape))\n",
        "    model.add(layers.MaxPooling2D((2, 2)))\n",
        "\n",
        "    model.add(layers.Conv2D(64, (3, 3), activation='relu'))\n",
        "    model.add(layers.MaxPooling2D((2, 2)))\n",
        "\n",
        "    # Flatten layer before fully connected layers\n",
        "    model.add(layers.Flatten())\n",
        "\n",
        "    # Fully connected layers\n",
        "    model.add(layers.Dense(128, activation='relu'))\n",
        "\n",
        "    # Dropout layer with tunable rate\n",
        "    model.add(layers.Dropout(hp.Float('dropout_rate', min_value=0.2, max_value=0.5, step=0.1)))\n",
        "\n",
        "    model.add(layers.Dense(num_classes, activation='softmax'))\n",
        "\n",
        "    # Compile the model with a tunable learning rate\n",
        "    model.compile(optimizer=Adam(hp.Float('learning_rate', min_value=1e-4, max_value=1e-2, sampling='log')),\n",
        "                loss='categorical_crossentropy',\n",
        "                metrics=['accuracy'])\n",
        "\n",
        "    return model\n"
      ]
    },
    {
      "cell_type": "code",
      "execution_count": null,
      "metadata": {
        "id": "lmwPXgm_AKaR"
      },
      "outputs": [],
      "source": [
        "def plot_graphs(history):\n",
        "    # Create a single figure for all plots\n",
        "    plt.figure(figsize=(8, 4))\n",
        "\n",
        "    # Plot Training Loss vs. Epoch\n",
        "    plt.subplot(2, 2, 1)\n",
        "    plt.plot(history.history['loss'], label='Training Loss')\n",
        "    plt.plot(history.history['val_loss'], label='Validation Loss')\n",
        "    plt.xlabel('Epoch')\n",
        "    plt.ylabel('Loss')\n",
        "    plt.title('Training and Validation Loss vs. Epoch')\n",
        "    plt.legend()\n",
        "\n",
        "    # Plot Training Accuracy vs. Epoch\n",
        "    plt.subplot(2, 2, 2)\n",
        "    plt.plot(history.history['accuracy'], label='Training Accuracy')\n",
        "    plt.plot(history.history['val_accuracy'], label='Validation Accuracy')\n",
        "    plt.xlabel('Epoch')\n",
        "    plt.ylabel('Accuracy')\n",
        "    plt.title('Training and Validation Accuracy vs. Epoch')\n",
        "    plt.legend()\n",
        "\n",
        "    # Adjust layout and display the plot\n",
        "    plt.tight_layout()\n",
        "    plt.show()\n"
      ]
    },
    {
      "cell_type": "markdown",
      "metadata": {
        "id": "A39GC9_RD51R"
      },
      "source": [
        "train_images_path = \"/csvTrainImages 13440x1024.csv\"\n",
        "train_labels_path = \"/csvTrainLabel 13440x1.csv\"\n",
        "test_images_path = \"/csvTestImages 3360x1024.csv\"\n",
        "test_labels_path = \"/csvTestLabel 3360x1.csv\"\n",
        "train_images, train_labels, test_images, test_labels = load_data(train_images_path, train_labels_path, test_images_path, test_labels_path)\n",
        "print(\"Train Images Shape:\", train_images.shape)\n",
        "print(\"Train Labels Shape:\", train_labels.shape)"
      ]
    },
    {
      "cell_type": "code",
      "execution_count": null,
      "metadata": {
        "colab": {
          "base_uri": "https://localhost:8080/"
        },
        "id": "j53yHem3mPKk",
        "outputId": "723cd492-0f12-43b8-84bc-952f56dcc212"
      },
      "outputs": [
        {
          "output_type": "stream",
          "name": "stdout",
          "text": [
            "Train Images Shape: (13440, 32, 32, 1)\n",
            "Train Labels Shape: (13440, 29)\n"
          ]
        }
      ],
      "source": [
        "train_images_path = \"/content/csvTrainImages 13440x1024.csv\" # defining the the pathes for the dataset files and passing it to the load function\n",
        "train_labels_path = \"/content/csvTrainLabel 13440x1.csv\"\n",
        "test_images_path = \"/content/csvTestImages 3360x1024.csv\"\n",
        "test_labels_path = \"/content/csvTestLabel 3360x1.csv\"\n",
        "train_images, train_labels, test_images, test_labels = load_data(train_images_path, train_labels_path, test_images_path, test_labels_path)\n",
        "print(\"Train Images Shape:\", train_images.shape)\n",
        "print(\"Train Labels Shape:\", train_labels.shape)"
      ]
    },
    {
      "cell_type": "code",
      "execution_count": null,
      "metadata": {
        "colab": {
          "base_uri": "https://localhost:8080/"
        },
        "id": "gfAZ28iBgIAf",
        "outputId": "4a20c8c0-abf7-4bc5-da6a-6c0f025df6a1"
      },
      "outputs": [
        {
          "output_type": "stream",
          "name": "stdout",
          "text": [
            "Trial 10 Complete [00h 00m 20s]\n",
            "val_accuracy: 0.9163690209388733\n",
            "\n",
            "Best val_accuracy So Far: 0.9267857074737549\n",
            "Total elapsed time: 00h 04m 50s\n",
            "Best Hyperparameters:\n",
            "Learning Rate: 0.0010845987412086886\n",
            "Dropout Rate: 0.4\n"
          ]
        }
      ],
      "source": [
        "#tuning learning rate and dropout rate\n",
        "# Instantiate the tuner\n",
        "\n",
        "tuner = kt.RandomSearch(build_cnn_for_tuning, objective='val_accuracy', max_trials=10)\n",
        "\n",
        "# Perform the random search\n",
        "tuner.search(train_images, train_labels, epochs=10, validation_data=(test_images, test_labels))\n",
        "\n",
        "# Get the best hyperparameters\n",
        "best_hps = tuner.get_best_hyperparameters(num_trials=1)[0]\n",
        "\n",
        "# Print the best hyperparameters\n",
        "print(\"Best Hyperparameters:\")\n",
        "print(f\"Learning Rate: {best_hps.get('learning_rate')}\")\n",
        "print(f\"Dropout Rate: {best_hps.get('dropout_rate')}\")"
      ]
    },
    {
      "cell_type": "code",
      "execution_count": null,
      "metadata": {
        "colab": {
          "base_uri": "https://localhost:8080/",
          "height": 594
        },
        "id": "MCFke2QjCHwk",
        "outputId": "174ee8de-e4cf-4efa-f0eb-382c7f7921a9"
      },
      "outputs": [
        {
          "output_type": "stream",
          "name": "stdout",
          "text": [
            "Epoch 1/10\n",
            "420/420 [==============================] - 2s 4ms/step - loss: 3.2501 - accuracy: 0.1412 - val_loss: 2.0769 - val_accuracy: 0.3583\n",
            "Epoch 2/10\n",
            "420/420 [==============================] - 2s 4ms/step - loss: 1.9893 - accuracy: 0.3774 - val_loss: 1.0946 - val_accuracy: 0.6670\n",
            "Epoch 3/10\n",
            "420/420 [==============================] - 2s 4ms/step - loss: 1.2292 - accuracy: 0.5915 - val_loss: 0.5914 - val_accuracy: 0.8134\n",
            "Epoch 4/10\n",
            "420/420 [==============================] - 2s 4ms/step - loss: 0.8103 - accuracy: 0.7249 - val_loss: 0.4258 - val_accuracy: 0.8682\n",
            "Epoch 5/10\n",
            "420/420 [==============================] - 2s 5ms/step - loss: 0.6105 - accuracy: 0.7906 - val_loss: 0.3501 - val_accuracy: 0.8911\n",
            "Epoch 6/10\n",
            "420/420 [==============================] - 2s 4ms/step - loss: 0.4929 - accuracy: 0.8323 - val_loss: 0.3290 - val_accuracy: 0.8994\n",
            "Epoch 7/10\n",
            "420/420 [==============================] - 2s 4ms/step - loss: 0.4092 - accuracy: 0.8593 - val_loss: 0.3187 - val_accuracy: 0.9068\n",
            "Epoch 8/10\n",
            "420/420 [==============================] - 2s 4ms/step - loss: 0.3654 - accuracy: 0.8725 - val_loss: 0.3008 - val_accuracy: 0.9143\n",
            "Epoch 9/10\n",
            "420/420 [==============================] - 2s 4ms/step - loss: 0.3298 - accuracy: 0.8852 - val_loss: 0.3031 - val_accuracy: 0.9101\n",
            "Epoch 10/10\n",
            "420/420 [==============================] - 2s 4ms/step - loss: 0.2987 - accuracy: 0.8964 - val_loss: 0.3362 - val_accuracy: 0.9009\n"
          ]
        },
        {
          "output_type": "display_data",
          "data": {
            "text/plain": [
              "<Figure size 800x400 with 2 Axes>"
            ],
            "image/png": "[encoded data removed]"
          },
          "metadata": {}
        }
      ],
      "source": [
        "# Train the model\n",
        "model = build_cnn()\n",
        "history = model.fit(train_images, train_labels, epochs=epochs,batch_size=batch_size, validation_data=(test_images, test_labels))\n",
        "plot_graphs(history)"
      ]
    },
    {
      "cell_type": "code",
      "execution_count": null,
      "metadata": {
        "colab": {
          "base_uri": "https://localhost:8080/",
          "height": 401
        },
        "id": "ffZRZmu_vIV4",
        "outputId": "60983aec-f144-41bf-a477-3b99efa97c47"
      },
      "outputs": [
        {
          "output_type": "stream",
          "name": "stdout",
          "text": [
            "Reloading Tuner from ./untitled_project/tuner0.json\n",
            "Best Hyperparameters:\n"
          ]
        },
        {
          "output_type": "error",
          "ename": "KeyError",
          "evalue": "'rotation_range does not exist.'",
          "traceback": [
            "\u001b[0;31m---------------------------------------------------------------------------\u001b[0m",
            "\u001b[0;31mKeyError\u001b[0m                                  Traceback (most recent call last)",
            "\u001b[0;32m<ipython-input-33-b3a3d53d5262>\u001b[0m in \u001b[0;36m<cell line: 59>\u001b[0;34m()\u001b[0m\n\u001b[1;32m     57\u001b[0m \u001b[0;31m# Print the best hyperparameters\u001b[0m\u001b[0;34m\u001b[0m\u001b[0;34m\u001b[0m\u001b[0m\n\u001b[1;32m     58\u001b[0m \u001b[0mprint\u001b[0m\u001b[0;34m(\u001b[0m\u001b[0;34m\"Best Hyperparameters:\"\u001b[0m\u001b[0;34m)\u001b[0m\u001b[0;34m\u001b[0m\u001b[0;34m\u001b[0m\u001b[0m\n\u001b[0;32m---> 59\u001b[0;31m \u001b[0mprint\u001b[0m\u001b[0;34m(\u001b[0m\u001b[0;34mf\"Rotation Range: {best_hps.get('rotation_range')}\"\u001b[0m\u001b[0;34m)\u001b[0m\u001b[0;34m\u001b[0m\u001b[0;34m\u001b[0m\u001b[0m\n\u001b[0m\u001b[1;32m     60\u001b[0m \u001b[0mprint\u001b[0m\u001b[0;34m(\u001b[0m\u001b[0;34mf\"Width Shift Range: {best_hps.get('width_shift_range')}\"\u001b[0m\u001b[0;34m)\u001b[0m\u001b[0;34m\u001b[0m\u001b[0;34m\u001b[0m\u001b[0m\n\u001b[1;32m     61\u001b[0m \u001b[0mprint\u001b[0m\u001b[0;34m(\u001b[0m\u001b[0;34mf\"Height Shift Range: {best_hps.get('height_shift_range')}\"\u001b[0m\u001b[0;34m)\u001b[0m\u001b[0;34m\u001b[0m\u001b[0;34m\u001b[0m\u001b[0m\n",
            "\u001b[0;32m/usr/local/lib/python3.10/dist-packages/keras_tuner/src/engine/hyperparameters/hyperparameters.py\u001b[0m in \u001b[0;36mget\u001b[0;34m(self, name)\u001b[0m\n\u001b[1;32m    244\u001b[0m             \u001b[0;32mraise\u001b[0m \u001b[0mValueError\u001b[0m\u001b[0;34m(\u001b[0m\u001b[0;34mf\"{name} is currently inactive.\"\u001b[0m\u001b[0;34m)\u001b[0m\u001b[0;34m\u001b[0m\u001b[0;34m\u001b[0m\u001b[0m\n\u001b[1;32m    245\u001b[0m         \u001b[0;32melse\u001b[0m\u001b[0;34m:\u001b[0m\u001b[0;34m\u001b[0m\u001b[0;34m\u001b[0m\u001b[0m\n\u001b[0;32m--> 246\u001b[0;31m             \u001b[0;32mraise\u001b[0m \u001b[0mKeyError\u001b[0m\u001b[0;34m(\u001b[0m\u001b[0;34mf\"{name} does not exist.\"\u001b[0m\u001b[0;34m)\u001b[0m\u001b[0;34m\u001b[0m\u001b[0;34m\u001b[0m\u001b[0m\n\u001b[0m\u001b[1;32m    247\u001b[0m \u001b[0;34m\u001b[0m\u001b[0m\n\u001b[1;32m    248\u001b[0m     \u001b[0;32mdef\u001b[0m \u001b[0m__getitem__\u001b[0m\u001b[0;34m(\u001b[0m\u001b[0mself\u001b[0m\u001b[0;34m,\u001b[0m \u001b[0mname\u001b[0m\u001b[0;34m)\u001b[0m\u001b[0;34m:\u001b[0m\u001b[0;34m\u001b[0m\u001b[0;34m\u001b[0m\u001b[0m\n",
            "\u001b[0;31mKeyError\u001b[0m: 'rotation_range does not exist.'"
          ]
        }
      ],
      "source": [
        "#Task 2\n",
        "#IMPORTANT NOTE: if it gave error on running, delete \"untitled_project\"  in content dir\n",
        "from keras.preprocessing.image import ImageDataGenerator\n",
        "import kerastuner as kt\n",
        "\n",
        "# Data augmentation parameters\n",
        "def build_cnn_with_data_augmentation(hp):\n",
        "    model = models.Sequential()\n",
        "\n",
        "    # Convolutional layers\n",
        "    model.add(layers.Conv2D(32, (3, 3), activation='relu', input_shape=input_shape))\n",
        "    model.add(layers.MaxPooling2D((2, 2)))\n",
        "\n",
        "    model.add(layers.Conv2D(64, (3, 3), activation='relu'))\n",
        "    model.add(layers.MaxPooling2D((2, 2)))\n",
        "\n",
        "    # Flatten layer before fully connected layers\n",
        "    model.add(layers.Flatten())\n",
        "\n",
        "    # Fully connected layers\n",
        "    model.add(layers.Dense(128, activation='relu'))\n",
        "    model.add(layers.Dropout(dropout_rate))  # Dropout layer to prevent overfitting\n",
        "    model.add(layers.Dense(num_classes, activation='softmax'))\n",
        "\n",
        "    # Compile the model\n",
        "    model.compile(optimizer=optimizer,\n",
        "                  loss='categorical_crossentropy',\n",
        "                  metrics=['accuracy'])\n",
        "\n",
        "    # Data augmentation parameters\n",
        "    data_gen = ImageDataGenerator(\n",
        "        rotation_range=hp.Float('rotation_range', min_value=0, max_value=45, step=5),\n",
        "        width_shift_range=hp.Float('width_shift_range', min_value=0, max_value=0.2, step=0.05),\n",
        "        height_shift_range=hp.Float('height_shift_range', min_value=0, max_value=0.2, step=0.05),\n",
        "        shear_range=hp.Float('shear_range', min_value=0, max_value=0.2, step=0.05),\n",
        "        horizontal_flip=hp.Boolean('horizontal_flip'),\n",
        "        fill_mode=hp.Choice('fill_mode', values=['constant', 'nearest', 'reflect', 'wrap'])\n",
        "    )\n",
        "\n",
        "    # Use the data generator for training\n",
        "    train_generator = data_gen.flow(train_images, train_labels, batch_size=batch_size)\n",
        "\n",
        "    # Train the model\n",
        "    model.fit(train_generator, epochs=epochs, validation_data=(test_images, test_labels))\n",
        "\n",
        "    return model\n",
        "\n",
        "# Define the tuner\n",
        "tuner = kt.RandomSearch(build_cnn_with_data_augmentation, objective='val_accuracy', max_trials=10)\n",
        "\n",
        "# Search for the best hyperparameters\n",
        "tuner.search(train_images, train_labels, epochs=epochs, validation_data=(test_images, test_labels))\n",
        "\n",
        "# Get the best hyperparameters\n",
        "best_hps = tuner.get_best_hyperparameters(num_trials=1)[0]\n",
        "\n",
        "# Print the best hyperparameters\n",
        "print(\"Best Hyperparameters:\")\n",
        "print(f\"Rotation Range: {best_hps.get('rotation_range')}\")\n",
        "print(f\"Width Shift Range: {best_hps.get('width_shift_range')}\")\n",
        "print(f\"Height Shift Range: {best_hps.get('height_shift_range')}\")\n",
        "print(f\"Shear Range: {best_hps.get('shear_range')}\")\n",
        "print(f\"Horizontal Flip: {best_hps.get('horizontal_flip')}\")\n",
        "print(f\"Fill Mode: {best_hps.get('fill_mode')}\")\n"
      ]
    },
    {
      "cell_type": "code",
      "execution_count": null,
      "metadata": {
        "id": "AhPzobh3EXwU"
      },
      "outputs": [],
      "source": [
        "from keras.preprocessing.image import ImageDataGenerator\n",
        "\n",
        "datagen = ImageDataGenerator(\n",
        "    rotation_range=0,\n",
        "    width_shift_range=0.2,\n",
        "    height_shift_range=0,\n",
        "    shear_range=0.1,\n",
        "    horizontal_flip=False,\n",
        "    fill_mode='nearest' #'nearest' to fill newly created pixels during augmentation with the nearest existing pixel value.\n",
        ")"
      ]
    },
    {
      "cell_type": "code",
      "execution_count": null,
      "metadata": {
        "id": "-vkAtQlpc2r3"
      },
      "outputs": [],
      "source": [
        "\n",
        "train_generator = datagen.flow(train_images, train_labels, batch_size=batch_size)\n",
        "# Train the model\n",
        "history=model.fit(train_generator, epochs=epochs, validation_data=(test_images, test_labels))\n",
        "plot_graphs(history)"
      ]
    },
    {
      "cell_type": "code",
      "execution_count": null,
      "metadata": {
        "id": "HcnKd9Pa9fVQ"
      },
      "outputs": [],
      "source": [
        "#Task 3, LeNet-5 arch model\n",
        "def build_lenet():\n",
        "    model = models.Sequential()\n",
        "    #Conv 1\n",
        "    model.add(layers.Conv2D(6, kernel_size=(5, 5), strides=(1, 1), activation='tanh', input_shape=input_shape))\n",
        "    #avg pooling 1\n",
        "    model.add(layers.AveragePooling2D(pool_size=(2, 2), strides=(2, 2)))\n",
        "    #conv 2\n",
        "    model.add(layers.Conv2D(16, kernel_size=(5, 5), strides=(1, 1), activation='tanh'))\n",
        "    #avg pooling 2\n",
        "    model.add(layers.AveragePooling2D(pool_size=(2, 2), strides=(2, 2)))\n",
        "    #conv 3\n",
        "    model.add(layers.Conv2D(120, kernel_size=(5, 5), strides=(1, 1), activation='tanh'))\n",
        "    #always flatten layer before fully connected layers\n",
        "    model.add(layers.Flatten())\n",
        "    #fully connected layer 1\n",
        "    model.add(layers.Dense(84, activation='tanh'))\n",
        "    model.add(layers.Dropout(dropout_rate))  # Dropout layer to prevent overfitting\n",
        "    #fully connected layer 2\n",
        "    model.add(layers.Dense(num_classes, activation='softmax'))\n",
        "    #compiling the model with the same optimizer defined for all models\n",
        "    model.compile(optimizer=optimizer,\n",
        "                loss='categorical_crossentropy',\n",
        "                metrics=['accuracy'])\n",
        "    return model\n"
      ]
    },
    {
      "cell_type": "code",
      "execution_count": null,
      "metadata": {
        "id": "5G1gQ60l__BG"
      },
      "outputs": [],
      "source": [
        "lenet_model=build_lenet()\n",
        "res=lenet_model.fit(train_generator, epochs=epochs, validation_data=(test_images, test_labels)) #combined with data augmentation made before\n",
        "plot_graphs(res)"
      ]
    },
    {
      "cell_type": "code",
      "execution_count": null,
      "metadata": {
        "id": "YYLY97yKYfVN"
      },
      "outputs": [],
      "source": [
        "#tuning LeNet-5 model's parameters to trade-off between complexity of layers and the accuracy obtained\n",
        "#Important to remove \"untitled project\" in content before starting\n",
        "\n",
        "from kerastuner.engine.hyperparameters import HyperParameters\n",
        "\n",
        "# Function to build the LeNet-5 model\n",
        "def build_lenet_tuning(hp):\n",
        "    model = models.Sequential()\n",
        "\n",
        "    model.add(layers.Conv2D(hp.Int('conv1_filters', min_value=4, max_value=32, step=4),\n",
        "                            kernel_size=(5, 5),\n",
        "                            strides=(1, 1),\n",
        "                            activation='tanh',\n",
        "                            input_shape=input_shape))\n",
        "    model.add(layers.AveragePooling2D(pool_size=(2, 2), strides=(2, 2)))\n",
        "\n",
        "    model.add(layers.Conv2D(hp.Int('conv2_filters', min_value=8, max_value=64, step=8),\n",
        "                            kernel_size=(5, 5),\n",
        "                            strides=(1, 1),\n",
        "                            activation='tanh'))\n",
        "    model.add(layers.AveragePooling2D(pool_size=(2, 2), strides=(2, 2)))\n",
        "\n",
        "    model.add(layers.Conv2D(hp.Int('conv3_filters', min_value=16, max_value=128, step=16),\n",
        "                            kernel_size=(5, 5),\n",
        "                            strides=(1, 1),\n",
        "                            activation='tanh'))\n",
        "\n",
        "    model.add(layers.Flatten())\n",
        "\n",
        "    model.add(layers.Dense(hp.Int('dense1_units', min_value=16, max_value=128, step=16), activation='tanh'))\n",
        "    model.add(layers.Dropout(hp.Float('dropout_rate', min_value=0.2, max_value=0.5, step=0.1)))\n",
        "    model.add(layers.Dense(num_classes, activation='softmax'))\n",
        "\n",
        "    model.compile(optimizer=optimizer,\n",
        "                  loss='categorical_crossentropy',\n",
        "                  metrics=['accuracy'])\n",
        "\n",
        "    return model\n",
        "\n",
        "# Instantiate the Keras Tuner RandomSearch tuner\n",
        "tuner = kt.RandomSearch(\n",
        "    build_lenet_tuning,\n",
        "    objective='val_accuracy',\n",
        "    directory='lenet_tuner',\n",
        "    project_name='lenet_tuning'\n",
        ")\n",
        "\n",
        "# Perform the hyperparameter search\n",
        "tuner.search(train_images, train_labels, validation_data=(test_images, test_labels), epochs=epochs)\n",
        "\n",
        "# Get the best hyperparameters\n",
        "best_hps = tuner.get_best_hyperparameters(num_trials=1)[0]\n",
        "# Print the best hyperparameters\n",
        "print(\"Best Hyperparameters:\")\n",
        "print(f\"conv1_filters: {best_hps.get('conv1_filters')}\")\n",
        "print(f\"conv2_filters: {best_hps.get('conv2_filters')}\")\n",
        "print(f\"conv3_filters: {best_hps.get('conv3_filters')}\")\n",
        "print(f\"dense1_units: {best_hps.get('dense1_units')}\")\n",
        "print(f\"dropout_rate: {best_hps.get('dropout_rate')}\")\n",
        "\n"
      ]
    },
    {
      "cell_type": "code",
      "execution_count": null,
      "metadata": {
        "id": "OasSQSNlhHkA"
      },
      "outputs": [],
      "source": [
        "#modified lenet model\n",
        "def build_lenet2():\n",
        "    model = models.Sequential()\n",
        "    #Conv 1\n",
        "    model.add(layers.Conv2D(12, kernel_size=(5, 5), strides=(1, 1), activation='tanh', input_shape=input_shape))\n",
        "    #avg pooling 1\n",
        "    model.add(layers.AveragePooling2D(pool_size=(2, 2), strides=(2, 2)))\n",
        "    #conv 2\n",
        "    model.add(layers.Conv2D(24, kernel_size=(5, 5), strides=(1, 1), activation='tanh'))\n",
        "    #avg pooling 2\n",
        "    model.add(layers.AveragePooling2D(pool_size=(2, 2), strides=(2, 2)))\n",
        "    #conv 3\n",
        "    model.add(layers.Conv2D(112, kernel_size=(5, 5), strides=(1, 1), activation='tanh'))\n",
        "    #always flatten layer before fully connected layers\n",
        "    model.add(layers.Flatten())\n",
        "    #fully connected layer 1\n",
        "    model.add(layers.Dense(64, activation='tanh'))\n",
        "    model.add(layers.Dropout(0.4))  # Dropout layer to prevent overfitting\n",
        "    #fully connected layer 2\n",
        "    model.add(layers.Dense(num_classes, activation='softmax'))\n",
        "    #compiling the model with the same optimizer defined for all models\n",
        "    model.compile(optimizer=optimizer,\n",
        "                loss='categorical_crossentropy',\n",
        "                metrics=['accuracy'])\n",
        "    return model"
      ]
    },
    {
      "cell_type": "code",
      "execution_count": null,
      "metadata": {
        "id": "ozTH1OLRYucq"
      },
      "outputs": [],
      "source": [
        "lenet_model2=build_lenet2()\n",
        "res2=lenet_model2.fit(train_generator, epochs=epochs, validation_data=(test_images, test_labels)) #combined with data augmentation made before\n",
        "plot_graphs(res2)"
      ]
    },
    {
      "cell_type": "code",
      "execution_count": null,
      "metadata": {
        "colab": {
          "base_uri": "https://localhost:8080/",
          "height": 383
        },
        "id": "8WNhdpxruhdr",
        "outputId": "1c8e26ea-7a25-44f8-b9b9-2297d65a5e89"
      },
      "outputs": [
        {
          "output_type": "stream",
          "name": "stdout",
          "text": [
            "Downloading data from https://storage.googleapis.com/tensorflow/keras-applications/vgg16/vgg16_weights_tf_dim_ordering_tf_kernels_notop.h5\n",
            "58889256/58889256 [==============================] - 3s 0us/step\n"
          ]
        },
        {
          "output_type": "error",
          "ename": "NameError",
          "evalue": "name 'num_classes' is not defined",
          "traceback": [
            "\u001b[0;31m---------------------------------------------------------------------------\u001b[0m",
            "\u001b[0;31mNameError\u001b[0m                                 Traceback (most recent call last)",
            "\u001b[0;32m<ipython-input-2-330c1301c324>\u001b[0m in \u001b[0;36m<cell line: 1>\u001b[0;34m()\u001b[0m\n\u001b[0;32m----> 1\u001b[0;31m \u001b[0mbase_model\u001b[0m\u001b[0;34m=\u001b[0m\u001b[0mpretrained_model\u001b[0m\u001b[0;34m(\u001b[0m\u001b[0;34m)\u001b[0m\u001b[0;34m\u001b[0m\u001b[0;34m\u001b[0m\u001b[0m\n\u001b[0m\u001b[1;32m      2\u001b[0m \u001b[0;31m# Train the model on your Arabic handwritten character dataset\u001b[0m\u001b[0;34m\u001b[0m\u001b[0;34m\u001b[0m\u001b[0m\n\u001b[1;32m      3\u001b[0m \u001b[0mevaluation\u001b[0m\u001b[0;34m=\u001b[0m\u001b[0mbase_model\u001b[0m\u001b[0;34m.\u001b[0m\u001b[0mfit\u001b[0m\u001b[0;34m(\u001b[0m\u001b[0mtrain_images\u001b[0m\u001b[0;34m,\u001b[0m \u001b[0mtrain_labels\u001b[0m\u001b[0;34m,\u001b[0m \u001b[0mepochs\u001b[0m\u001b[0;34m=\u001b[0m\u001b[0mepochs\u001b[0m\u001b[0;34m,\u001b[0m \u001b[0mvalidation_data\u001b[0m\u001b[0;34m=\u001b[0m\u001b[0;34m(\u001b[0m\u001b[0mtest_images\u001b[0m\u001b[0;34m,\u001b[0m \u001b[0mtest_labels\u001b[0m\u001b[0;34m)\u001b[0m\u001b[0;34m)\u001b[0m\u001b[0;34m\u001b[0m\u001b[0;34m\u001b[0m\u001b[0m\n\u001b[1;32m      4\u001b[0m \u001b[0mplot_graphs\u001b[0m\u001b[0;34m(\u001b[0m\u001b[0mevaluation\u001b[0m\u001b[0;34m)\u001b[0m\u001b[0;34m\u001b[0m\u001b[0;34m\u001b[0m\u001b[0m\n",
            "\u001b[0;32m<ipython-input-1-c661f5111067>\u001b[0m in \u001b[0;36mpretrained_model\u001b[0;34m()\u001b[0m\n\u001b[1;32m     19\u001b[0m     \u001b[0mmodel\u001b[0m\u001b[0;34m.\u001b[0m\u001b[0madd\u001b[0m\u001b[0;34m(\u001b[0m\u001b[0mGlobalAveragePooling2D\u001b[0m\u001b[0;34m(\u001b[0m\u001b[0;34m)\u001b[0m\u001b[0;34m)\u001b[0m\u001b[0;34m\u001b[0m\u001b[0;34m\u001b[0m\u001b[0m\n\u001b[1;32m     20\u001b[0m     \u001b[0mmodel\u001b[0m\u001b[0;34m.\u001b[0m\u001b[0madd\u001b[0m\u001b[0;34m(\u001b[0m\u001b[0mDense\u001b[0m\u001b[0;34m(\u001b[0m\u001b[0;36m256\u001b[0m\u001b[0;34m,\u001b[0m \u001b[0mactivation\u001b[0m\u001b[0;34m=\u001b[0m\u001b[0;34m'relu'\u001b[0m\u001b[0;34m)\u001b[0m\u001b[0;34m)\u001b[0m\u001b[0;34m\u001b[0m\u001b[0;34m\u001b[0m\u001b[0m\n\u001b[0;32m---> 21\u001b[0;31m     \u001b[0mmodel\u001b[0m\u001b[0;34m.\u001b[0m\u001b[0madd\u001b[0m\u001b[0;34m(\u001b[0m\u001b[0mDense\u001b[0m\u001b[0;34m(\u001b[0m\u001b[0mnum_classes\u001b[0m\u001b[0;34m,\u001b[0m \u001b[0mactivation\u001b[0m\u001b[0;34m=\u001b[0m\u001b[0;34m'softmax'\u001b[0m\u001b[0;34m)\u001b[0m\u001b[0;34m)\u001b[0m\u001b[0;34m\u001b[0m\u001b[0;34m\u001b[0m\u001b[0m\n\u001b[0m\u001b[1;32m     22\u001b[0m \u001b[0;34m\u001b[0m\u001b[0m\n\u001b[1;32m     23\u001b[0m     \u001b[0;31m# Compile the model\u001b[0m\u001b[0;34m\u001b[0m\u001b[0;34m\u001b[0m\u001b[0m\n",
            "\u001b[0;31mNameError\u001b[0m: name 'num_classes' is not defined"
          ]
        }
      ],
      "source": [
        "base_model=pretrained_model()\n",
        "# Train the model on your Arabic handwritten character dataset\n",
        "evaluation=base_model.fit(train_images, train_labels, epochs=epochs, validation_data=(test_images, test_labels))\n",
        "plot_graphs(evaluation)"
      ]
    },
    {
      "cell_type": "code",
      "execution_count": null,
      "metadata": {
        "id": "I5xW2LY9pB6e"
      },
      "outputs": [],
      "source": [
        "#task 4\n",
        "import tensorflow as tf\n",
        "from keras.applications import VGG16\n",
        "from keras.models import Sequential\n",
        "from keras.layers import Dense, GlobalAveragePooling2D\n",
        "from keras.layers.experimental import preprocessing\n",
        "\n",
        "# Function to build VGG16-based model\n",
        "def pretrained_model():\n",
        "    base_model = VGG16(weights='imagenet', include_top=False, input_shape=(32, 32, 3))\n",
        "    # Unfreeze some top layers for fine-tuning\n",
        "    for layer in base_model.layers[:-1]:\n",
        "        layer.trainable = True #unfreezes the last four convolutional blocks of VGG16 for fine-tuning.\n",
        "    # Create a new model and add VGG16 as a base\n",
        "    model = Sequential()\n",
        "    model.add(preprocessing.Rescaling(1./255, input_shape=(32, 32, 1)))  # Normalize pixel values\n",
        "    model.add(tf.keras.layers.Lambda(lambda x: tf.image.grayscale_to_rgb(x)))  # Convert to RGB\n",
        "    model.add(base_model)\n",
        "    model.add(GlobalAveragePooling2D())\n",
        "    model.add(Dense(256, activation='relu'))\n",
        "    model.add(Dense(num_classes, activation='softmax'))\n",
        "\n",
        "    # Compile the model\n",
        "    model.compile(optimizer='adam', loss='categorical_crossentropy', metrics=['accuracy'])\n",
        "\n",
        "    return model\n",
        "\n"
      ]
    }
  ],
  "metadata": {
    "accelerator": "GPU",
    "colab": {
      "provenance": [],
      "gpuType": "T4"
    },
    "kernelspec": {
      "display_name": "Python 3",
      "name": "python3"
    },
    "language_info": {
      "name": "python"
    }
  },
  "nbformat": 4,
  "nbformat_minor": 0
}